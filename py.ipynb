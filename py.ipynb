{
 "cells": [
  {
   "cell_type": "markdown",
   "metadata": {},
   "source": [
    "# Etape 1 - 2 : dataPrep, nettoyage & colonne vide"
   ]
  },
  {
   "cell_type": "code",
   "execution_count": null,
   "metadata": {},
   "outputs": [],
   "source": [
    "# -*- coding: utf-8 -*-\n",
    "import dataiku\n",
    "import pandas as pd\n",
    "\n",
    "# Lecture\n",
    "Energy_Data_prepared = dataiku.Dataset(\"Energy_Data\")\n",
    "Energy_Data_prepared_df = Energy_Data_prepared.get_dataframe()\n",
    "\n",
    "# Step 2: valeurs manquantes + delete des colonnes wind \n",
    "# colonne vide\n",
    "Energy_Data_prepared_df['MIP'].fillna(method='ffill', inplace=True)\n",
    "\n",
    "# Suppression\n",
    "columns_to_drop = ['Wind_MW', 'boa_MWh']\n",
    "Energy_Data_prepared_df.drop(columns=columns_to_drop, inplace=True)\n",
    "\n",
    "# Ecriture dans le nouveau dataset\n",
    "Energy_prepared_no_wind = dataiku.Dataset(\"Energy_prepared_no_wind\")\n",
    "Energy_prepared_no_wind.write_with_schema(Energy_Data_prepared_df)\n"
   ]
  },
  {
   "cell_type": "markdown",
   "metadata": {},
   "source": [
    "# Etape 3 : StandarScalling pour amélioration de nos futurs model "
   ]
  },
  {
   "cell_type": "code",
   "execution_count": null,
   "metadata": {},
   "outputs": [],
   "source": [
    "# -*- coding: utf-8 -*-\n",
    "import dataiku\n",
    "import pandas as pd\n",
    "import numpy as np\n",
    "from sklearn.preprocessing import StandardScaler\n",
    "\n",
    "\n",
    "# Lecture dataset de base \n",
    "Energy_prepared_no_wind = dataiku.Dataset(\"Energy_prepared_no_wind\")\n",
    "Energy_prepared_no_wind_df = Energy_prepared_no_wind.get_dataframe()\n",
    "\n",
    "# Etape 3: Feature Scaling\n",
    "# colonne à scale \n",
    "columns_to_scale = ['Solar_MW', 'Solar_capacity_mwp', 'Solar_installedcapacity_mwp']\n",
    "# Pas de standar scaler sur : 'DA_Price', 'MIP', 'SS_Price'\n",
    "\n",
    "# init scaler \n",
    "scaler = StandardScaler()\n",
    "\n",
    "# Scaling\n",
    "Energy_prepared_no_wind_df[columns_to_scale] = scaler.fit_transform(Energy_prepared_no_wind_df[columns_to_scale])\n",
    "\n",
    "# Ecriture dans le dataset de sorti\n",
    "Energy_features_scaling = dataiku.Dataset(\"Energy_features_scaling\")\n",
    "Energy_features_scaling.write_with_schema(Energy_prepared_no_wind_df)"
   ]
  }
 ],
 "metadata": {
  "language_info": {
   "name": "python"
  }
 },
 "nbformat": 4,
 "nbformat_minor": 2
}
