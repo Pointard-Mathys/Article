{
 "cells": [
  {
   "cell_type": "code",
   "execution_count": 3,
   "metadata": {},
   "outputs": [],
   "source": [
    "import pandas as pd"
   ]
  },
  {
   "cell_type": "code",
   "execution_count": 49,
   "metadata": {},
   "outputs": [
    {
     "data": {
      "text/html": [
       "<div>\n",
       "<style scoped>\n",
       "    .dataframe tbody tr th:only-of-type {\n",
       "        vertical-align: middle;\n",
       "    }\n",
       "\n",
       "    .dataframe tbody tr th {\n",
       "        vertical-align: top;\n",
       "    }\n",
       "\n",
       "    .dataframe thead th {\n",
       "        text-align: right;\n",
       "    }\n",
       "</style>\n",
       "<table border=\"1\" class=\"dataframe\">\n",
       "  <thead>\n",
       "    <tr style=\"text-align: right;\">\n",
       "      <th></th>\n",
       "      <th>dtm</th>\n",
       "      <th>MIP</th>\n",
       "      <th>Solar_MW</th>\n",
       "      <th>Solar_capacity_mwp</th>\n",
       "      <th>Solar_installedcapacity_mwp</th>\n",
       "      <th>Wind_MW</th>\n",
       "      <th>SS_Price</th>\n",
       "      <th>DA_Price</th>\n",
       "    </tr>\n",
       "  </thead>\n",
       "  <tbody>\n",
       "    <tr>\n",
       "      <th>0</th>\n",
       "      <td>2020-09-20T00:00:00.000000+0000</td>\n",
       "      <td>20.06</td>\n",
       "      <td>0.0</td>\n",
       "      <td>2130.537493</td>\n",
       "      <td>2228.208777</td>\n",
       "      <td>996.284</td>\n",
       "      <td>2.50</td>\n",
       "      <td>32.17</td>\n",
       "    </tr>\n",
       "    <tr>\n",
       "      <th>1</th>\n",
       "      <td>2020-09-20T00:30:00.000000+0000</td>\n",
       "      <td>19.77</td>\n",
       "      <td>0.0</td>\n",
       "      <td>2130.537493</td>\n",
       "      <td>2228.208777</td>\n",
       "      <td>957.576</td>\n",
       "      <td>15.00</td>\n",
       "      <td>32.17</td>\n",
       "    </tr>\n",
       "    <tr>\n",
       "      <th>2</th>\n",
       "      <td>2020-09-20T01:00:00.000000+0000</td>\n",
       "      <td>28.68</td>\n",
       "      <td>0.0</td>\n",
       "      <td>2130.537493</td>\n",
       "      <td>2228.208777</td>\n",
       "      <td>941.044</td>\n",
       "      <td>47.95</td>\n",
       "      <td>32.00</td>\n",
       "    </tr>\n",
       "    <tr>\n",
       "      <th>3</th>\n",
       "      <td>2020-09-20T01:30:00.000000+0000</td>\n",
       "      <td>28.97</td>\n",
       "      <td>0.0</td>\n",
       "      <td>2130.537493</td>\n",
       "      <td>2228.208777</td>\n",
       "      <td>964.366</td>\n",
       "      <td>29.13</td>\n",
       "      <td>32.00</td>\n",
       "    </tr>\n",
       "    <tr>\n",
       "      <th>4</th>\n",
       "      <td>2020-09-20T02:00:00.000000+0000</td>\n",
       "      <td>28.19</td>\n",
       "      <td>0.0</td>\n",
       "      <td>2130.537493</td>\n",
       "      <td>2228.208777</td>\n",
       "      <td>918.432</td>\n",
       "      <td>28.95</td>\n",
       "      <td>31.99</td>\n",
       "    </tr>\n",
       "  </tbody>\n",
       "</table>\n",
       "</div>"
      ],
      "text/plain": [
       "                               dtm    MIP  Solar_MW  Solar_capacity_mwp  \\\n",
       "0  2020-09-20T00:00:00.000000+0000  20.06       0.0         2130.537493   \n",
       "1  2020-09-20T00:30:00.000000+0000  19.77       0.0         2130.537493   \n",
       "2  2020-09-20T01:00:00.000000+0000  28.68       0.0         2130.537493   \n",
       "3  2020-09-20T01:30:00.000000+0000  28.97       0.0         2130.537493   \n",
       "4  2020-09-20T02:00:00.000000+0000  28.19       0.0         2130.537493   \n",
       "\n",
       "   Solar_installedcapacity_mwp  Wind_MW  SS_Price  DA_Price  \n",
       "0                  2228.208777  996.284      2.50     32.17  \n",
       "1                  2228.208777  957.576     15.00     32.17  \n",
       "2                  2228.208777  941.044     47.95     32.00  \n",
       "3                  2228.208777  964.366     29.13     32.00  \n",
       "4                  2228.208777  918.432     28.95     31.99  "
      ]
     },
     "execution_count": 49,
     "metadata": {},
     "output_type": "execute_result"
    }
   ],
   "source": [
    "import os\n",
    "directory = \"workspace\"\n",
    "data = pd.read_csv(os.path.join(directory,\"Energy_Data_prepared2.csv\"))\n",
    "data.head()"
   ]
  },
  {
   "cell_type": "code",
   "execution_count": 69,
   "metadata": {},
   "outputs": [
    {
     "name": "stdout",
     "output_type": "stream",
     "text": [
      "Epoch 1/20\n"
     ]
    },
    {
     "name": "stderr",
     "output_type": "stream",
     "text": [
      "/tmp/ipykernel_2304/4069255344.py:9: FutureWarning: DataFrame.fillna with 'method' is deprecated and will raise in a future version. Use obj.ffill() or obj.bfill() instead.\n",
      "  data.fillna(method='ffill', inplace=True)\n",
      "/usr/local/lib/python3.11/site-packages/keras/src/layers/rnn/rnn.py:204: UserWarning: Do not pass an `input_shape`/`input_dim` argument to a layer. When using Sequential models, prefer using an `Input(shape)` object as the first layer in the model instead.\n",
      "  super().__init__(**kwargs)\n"
     ]
    },
    {
     "name": "stdout",
     "output_type": "stream",
     "text": [
      "1460/1460 - 4s - 3ms/step - loss: 0.0087\n",
      "Epoch 2/20\n",
      "1460/1460 - 3s - 2ms/step - loss: 0.0026\n",
      "Epoch 3/20\n",
      "1460/1460 - 3s - 2ms/step - loss: 0.0024\n",
      "Epoch 4/20\n",
      "1460/1460 - 3s - 2ms/step - loss: 0.0024\n",
      "Epoch 5/20\n",
      "1460/1460 - 3s - 2ms/step - loss: 0.0023\n",
      "Epoch 6/20\n",
      "1460/1460 - 2s - 2ms/step - loss: 0.0023\n",
      "Epoch 7/20\n",
      "1460/1460 - 2s - 2ms/step - loss: 0.0023\n",
      "Epoch 8/20\n",
      "1460/1460 - 2s - 2ms/step - loss: 0.0023\n",
      "Epoch 9/20\n",
      "1460/1460 - 2s - 2ms/step - loss: 0.0023\n",
      "Epoch 10/20\n",
      "1460/1460 - 2s - 2ms/step - loss: 0.0023\n",
      "Epoch 11/20\n",
      "1460/1460 - 3s - 2ms/step - loss: 0.0023\n",
      "Epoch 12/20\n",
      "1460/1460 - 3s - 2ms/step - loss: 0.0023\n",
      "Epoch 13/20\n",
      "1460/1460 - 3s - 2ms/step - loss: 0.0023\n",
      "Epoch 14/20\n",
      "1460/1460 - 3s - 2ms/step - loss: 0.0023\n",
      "Epoch 15/20\n",
      "1460/1460 - 2s - 2ms/step - loss: 0.0022\n",
      "Epoch 16/20\n",
      "1460/1460 - 2s - 2ms/step - loss: 0.0022\n",
      "Epoch 17/20\n",
      "1460/1460 - 2s - 2ms/step - loss: 0.0022\n",
      "Epoch 18/20\n",
      "1460/1460 - 2s - 2ms/step - loss: 0.0022\n",
      "Epoch 19/20\n",
      "1460/1460 - 2s - 2ms/step - loss: 0.0022\n",
      "Epoch 20/20\n",
      "1460/1460 - 2s - 2ms/step - loss: 0.0022\n",
      "\u001b[1m1460/1460\u001b[0m \u001b[32m━━━━━━━━━━━━━━━━━━━━\u001b[0m\u001b[37m\u001b[0m \u001b[1m2s\u001b[0m 1ms/step\n",
      "\u001b[1m365/365\u001b[0m \u001b[32m━━━━━━━━━━━━━━━━━━━━\u001b[0m\u001b[37m\u001b[0m \u001b[1m0s\u001b[0m 1ms/step\n",
      "Train Score: 7216.82 MSE\n",
      "Test Score: 7794.23 MSE\n"
     ]
    }
   ],
   "source": [
    "import numpy as np\n",
    "from keras.models import Sequential\n",
    "from keras.layers import LSTM, Dense\n",
    "from sklearn.preprocessing import MinMaxScaler\n",
    "from sklearn.metrics import mean_squared_error\n",
    "from sklearn.model_selection import train_test_split\n",
    "\n",
    "# Nettoyage des données\n",
    "data.fillna(method='ffill', inplace=True)\n",
    "\n",
    "# Choix de la colonne à prédire\n",
    "target_column = ['Wind_MW', 'Solar_MW']\n",
    "features = ['Wind_MW', 'Solar_MW','Solar_capacity_mwp','Solar_installedcapacity_mwp']\n",
    "\n",
    "# Préparation des données\n",
    "dataset = data[features].values\n",
    "# scaler = MinMaxScaler(feature_range=(0, 1))\n",
    "# dataset_scaled = scaler.fit_transform(dataset)\n",
    "scaler = MinMaxScaler(feature_range=(0, 1))\n",
    "dataset_scaled = scaler.fit_transform(data[features])  # Ajuster le scaler sur toutes les caractéristiques\n",
    "\n",
    "Y_scaled = scaler.fit_transform(data[target_column].values.reshape(-1, 1))  # Ensure two-dimensional input\n",
    "\n",
    "# Fonction pour créer des séquences\n",
    "def create_dataset(dataset, look_back=1):\n",
    "    X, Y = [], []\n",
    "    for i in range(len(dataset) - look_back - 1):\n",
    "        a = dataset[i:(i + look_back), :]\n",
    "        X.append(a)\n",
    "        Y.append(dataset[i + look_back, 0])\n",
    "    return np.array(X), np.array(Y)\n",
    "\n",
    "look_back = 3\n",
    "X, Y = create_dataset(dataset_scaled, look_back)\n",
    "X = np.reshape(X, (X.shape[0], X.shape[1], len(features)))  # Correct number of features\n",
    "\n",
    "# Séparation en ensembles d'entraînement et de test\n",
    "X_train, X_test, Y_train, Y_test = train_test_split(X, Y, test_size=0.2, random_state=42)\n",
    "\n",
    "# Création du modèle LSTM\n",
    "model = Sequential()\n",
    "model.add(LSTM(50, input_shape=(look_back, len(features))))\n",
    "model.add(Dense(1))\n",
    "model.compile(loss='mean_squared_error', optimizer='adam')\n",
    "model.fit(X_train, Y_train, epochs=20, batch_size=32, verbose=2)\n",
    "\n",
    "# Prédictions et évaluation\n",
    "train_predict = model.predict(X_train)\n",
    "test_predict = model.predict(X_test)\n",
    "train_predict = scaler.inverse_transform(train_predict)\n",
    "test_predict = scaler.inverse_transform(test_predict)\n",
    "\n",
    "# Fix: Use a single column for inverse transform for Y_train and Y_test\n",
    "Y_train_inv = scaler.inverse_transform(Y_train.reshape(-1, 1))\n",
    "Y_test_inv = scaler.inverse_transform(Y_test.reshape(-1, 1))\n",
    "\n",
    "train_score = mean_squared_error(Y_train_inv, train_predict)\n",
    "test_score = mean_squared_error(Y_test_inv, test_predict)\n",
    "\n",
    "print(f'Train Score: {train_score:.2f} MSE')\n",
    "print(f'Test Score: {test_score:.2f} MSE')"
   ]
  },
  {
   "cell_type": "code",
   "execution_count": 70,
   "metadata": {},
   "outputs": [
    {
     "name": "stdout",
     "output_type": "stream",
     "text": [
      "Train RMSE: 84.95\n",
      "Test RMSE: 88.28\n"
     ]
    }
   ],
   "source": [
    "import math\n",
    "\n",
    "# Calcul du RMSE\n",
    "train_rmse = math.sqrt(train_score)\n",
    "test_rmse = math.sqrt(test_score)\n",
    "\n",
    "# Affichage des résultats\n",
    "print(f'Train RMSE: {train_rmse:.2f}')\n",
    "print(f'Test RMSE: {test_rmse:.2f}')"
   ]
  },
  {
   "cell_type": "code",
   "execution_count": 26,
   "metadata": {},
   "outputs": [
    {
     "name": "stderr",
     "output_type": "stream",
     "text": [
      "/usr/local/lib/python3.11/site-packages/sklearn/base.py:493: UserWarning: X does not have valid feature names, but MinMaxScaler was fitted with feature names\n",
      "  warnings.warn(\n"
     ]
    }
   ],
   "source": [
    "# Supposons que vous avez un DataFrame appelé 'data' contenant vos données d'entraînement\n",
    "scaler = MinMaxScaler(feature_range=(0, 1))\n",
    "dataset_scaled = scaler.fit_transform(data[features])  # Ajuster le scaler sur toutes les caractéristiques\n",
    "\n",
    "# Supposons que `new_data` soit vos nouvelles données sous forme de DataFrame\n",
    "new_data = pd.read_csv(os.path.join(directory,\"Energy_Data.csv\"))\n",
    "new_features = new_data[features].values\n",
    "new_features_scaled = scaler.transform(new_features)\n",
    "\n",
    "# Créer des séquences de la même manière que pour l'entraînement\n",
    "look_back = 3  # Doit être le même que celui utilisé lors de l'entraînement\n",
    "def create_predict_sequences(dataset, look_back):\n",
    "    X = []\n",
    "    for i in range(len(dataset) - look_back + 1):\n",
    "        a = dataset[i:(i + look_back), :]\n",
    "        X.append(a)\n",
    "    return np.array(X)\n",
    "\n",
    "X_predict = create_predict_sequences(new_features_scaled, look_back)\n",
    "X_predict = np.reshape(X_predict, (X_predict.shape[0], look_back, len(features)))\n"
   ]
  },
  {
   "cell_type": "code",
   "execution_count": 43,
   "metadata": {},
   "outputs": [
    {
     "name": "stdout",
     "output_type": "stream",
     "text": [
      "\u001b[1m1824/1824\u001b[0m \u001b[32m━━━━━━━━━━━━━━━━━━━━\u001b[0m\u001b[37m\u001b[0m \u001b[1m2s\u001b[0m 989us/step\n"
     ]
    }
   ],
   "source": [
    "predicted_energy = model.predict(X_predict)\n",
    "predicted_energy = scaler.inverse_transform(predicted_energy)  # Inverse scaling\n"
   ]
  },
  {
   "cell_type": "code",
   "execution_count": 44,
   "metadata": {},
   "outputs": [],
   "source": [
    "import pandas as pd\n",
    "\n",
    "# Conversion de la colonne 'dtm' en datetime si ce n'est pas déjà fait\n",
    "data['dtm'] = pd.to_datetime(data['dtm'])\n",
    "\n",
    "# Si les prédictions correspondent aux 'n' dernières entrées\n",
    "n_predictions = len(predicted_energy)\n",
    "date_range = data['dtm'][-n_predictions:]  # Extrait les dates pour les prédictions"
   ]
  },
  {
   "cell_type": "code",
   "execution_count": 55,
   "metadata": {},
   "outputs": [
    {
     "data": {
      "image/png": "[encoded data removed]",
      "text/plain": [
       "<Figure size 1000x600 with 1 Axes>"
      ]
     },
     "metadata": {},
     "output_type": "display_data"
    }
   ],
   "source": [
    "# le graphique qui est nul\n",
    "\n",
    "import matplotlib.pyplot as plt\n",
    "import matplotlib.dates as mdates\n",
    "\n",
    "# Tracé du graphique\n",
    "plt.figure(figsize=(10, 6))\n",
    "plt.plot(date_range, predicted_energy, label='Prédiction de l\\'énergie', marker='o')\n",
    "plt.title('Prédictions de l\\'énergie future')\n",
    "plt.xlabel('Temps')\n",
    "plt.ylabel('Énergie prédite')\n",
    "\n",
    "# Configuration des formats de date sur l'axe des abscisses\n",
    "plt.gca().xaxis.set_major_locator(mdates.AutoDateLocator())\n",
    "plt.gca().xaxis.set_major_formatter(mdates.DateFormatter('%Y-%m'))\n",
    "plt.gcf().autofmt_xdate()  # Rotation pour mieux afficher les dates\n",
    "\n",
    "plt.legend()\n",
    "plt.grid(True)\n",
    "plt.show()\n"
   ]
  }
 ],
 "metadata": {
  "kernelspec": {
   "display_name": "Python 3",
   "language": "python",
   "name": "python3"
  },
  "language_info": {
   "codemirror_mode": {
    "name": "ipython",
    "version": 3
   },
   "file_extension": ".py",
   "mimetype": "text/x-python",
   "name": "python",
   "nbconvert_exporter": "python",
   "pygments_lexer": "ipython3",
   "version": "3.11.9"
  }
 },
 "nbformat": 4,
 "nbformat_minor": 2
}
